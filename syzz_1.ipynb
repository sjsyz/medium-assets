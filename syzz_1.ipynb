{
  "nbformat": 4,
  "nbformat_minor": 0,
  "metadata": {
    "colab": {
      "name": "syzz-1",
      "provenance": [],
      "collapsed_sections": [],
      "toc_visible": true,
      "include_colab_link": true
    },
    "kernelspec": {
      "name": "python3",
      "display_name": "Python 3"
    }
  },
  "cells": [
    {
      "cell_type": "markdown",
      "metadata": {
        "id": "view-in-github",
        "colab_type": "text"
      },
      "source": [
        "<a href=\"https://colab.research.google.com/github/sjsyz/medium-assets/blob/main/syzz_1.ipynb\" target=\"_parent\"><img src=\"https://colab.research.google.com/assets/colab-badge.svg\" alt=\"Open In Colab\"/></a>"
      ]
    },
    {
      "cell_type": "markdown",
      "metadata": {
        "id": "R7L8g0dbySa8"
      },
      "source": [
        "# **syzz-1**\n",
        "> This notebook is a supplement to my Medium post \"Investigate BigQuery slowness with Python and INFORMATION_SCHEMA\"\n",
        "\n",
        "Slot resource contention is one of the most common reasons for slower BigQuery jobs. When the demand for slots is too high, jobs compete for resources and will not perform optimally. Use this notebook to deep dive into slot usage and trends in your environment. At a minimum, you must have already identified:\n",
        "\n",
        "\n",
        "1.   A problematic job id\n",
        "2.   The [reservation admin project](https://cloud.google.com/bigquery/docs/reservations-workload-management#admin-project) id\n",
        "3.   The project's region\n",
        "\n",
        "\n",
        "If you do not know this information, please contact your BigQuery administrator before running this notebook.\n",
        "\n",
        "\n"
      ]
    },
    {
      "cell_type": "markdown",
      "metadata": {
        "id": "3v6YW0PGygKc"
      },
      "source": [
        "# **Authentication & Setup**\n",
        "In this section, you grant this notebook access to your GCP environment and import several useful Python libraries for data analysis."
      ]
    },
    {
      "cell_type": "code",
      "metadata": {
        "id": "3_Kc0Q8pv_yO",
        "colab": {
          "base_uri": "https://localhost:8080/"
        },
        "outputId": "ec1f7fd9-90ec-44d4-c396-6ff8dbb0170e"
      },
      "source": [
        "# you will be redirected to a separate authentication page\n",
        "from google.colab import auth\n",
        "auth.authenticate_user()\n",
        "print('Authenticated')"
      ],
      "execution_count": 1,
      "outputs": [
        {
          "output_type": "stream",
          "text": [
            "Authenticated\n"
          ],
          "name": "stdout"
        }
      ]
    },
    {
      "cell_type": "code",
      "metadata": {
        "id": "52SystnRwWaz"
      },
      "source": [
        "# enable data table display, which displays large pandas dataframes as an interactive data table\n",
        "%load_ext google.colab.data_table"
      ],
      "execution_count": 2,
      "outputs": []
    },
    {
      "cell_type": "code",
      "metadata": {
        "id": "v4MsG1L2w6wZ"
      },
      "source": [
        "# import libraries\n",
        "from google.cloud import bigquery\n",
        "import numpy as np\n",
        "from scipy import stats\n",
        "from datetime import datetime, date, timezone, timedelta\n",
        "import matplotlib.pyplot as plt\n",
        "import matplotlib.dates as mdates\n",
        "import pandas as pd\n",
        "import re"
      ],
      "execution_count": 3,
      "outputs": []
    },
    {
      "cell_type": "markdown",
      "metadata": {
        "id": "zSYL48OFfZnz"
      },
      "source": [
        "# **Step 1: Gathering basic slowness information**  "
      ]
    },
    {
      "cell_type": "markdown",
      "metadata": {
        "id": "AR6gELGIzAi9"
      },
      "source": [
        "#### _Figure 1. Summary of Job Information Example_"
      ]
    },
    {
      "cell_type": "code",
      "metadata": {
        "id": "7Rz3xFl4gHg-"
      },
      "source": [
        "# initialize variables\n",
        "problematic_job_id = <JOB-ID>\n",
        "admin_project_id = <PROJECT-ID>\n",
        "client = bigquery.Client(project=admin_project_id)"
      ],
      "execution_count": null,
      "outputs": []
    },
    {
      "cell_type": "code",
      "metadata": {
        "id": "enYb9yXPxmQJ",
        "colab": {
          "base_uri": "https://localhost:8080/",
          "height": 110
        },
        "outputId": "1f942c40-b077-4160-dc92-0eac41d496ed"
      },
      "source": [
        "# query organization system tables\n",
        "job_execution_sql = f'''\n",
        " SELECT\n",
        "   project_id,\n",
        "   job_id,\n",
        "   reservation_id,\n",
        "   EXTRACT(DATE FROM creation_time) AS creation_date,\n",
        "   creation_time,\n",
        "   end_time,\n",
        "   TIMESTAMP_DIFF(end_time, start_time, SECOND) AS job_duration_seconds,\n",
        "   job_type,\n",
        "   user_email,\n",
        "   state,\n",
        "   error_result,\n",
        "   total_bytes_processed,\n",
        "   -- Average slot utilization per job is calculated by dividing\n",
        "   -- total_slot_ms by the millisecond duration of the job\n",
        "   SAFE_DIVIDE(total_slot_ms, (TIMESTAMP_DIFF(end_time, start_time, MILLISECOND))) AS avg_slots\n",
        " FROM\n",
        "   `region-US`.INFORMATION_SCHEMA.JOBS_BY_ORGANIZATION\n",
        " ORDER BY\n",
        "   creation_time DESC\n",
        "'''\n",
        "\n",
        "# save results as a dataframe\n",
        "jobs_by_org = client.query(job_execution_sql).to_dataframe()\n",
        "# display summary of job information\n",
        "jobs_by_org.loc[jobs_by_org['job_id'] == problematic_job_id]"
      ],
      "execution_count": 5,
      "outputs": [
        {
          "output_type": "execute_result",
          "data": {
            "application/vnd.google.colaboratory.module+javascript": "\n      import \"https://ssl.gstatic.com/colaboratory/data_table/a6224c040fa35dcf/data_table.js\";\n\n      window.createDataTable({\n        data: [[{\n            'v': 187620,\n            'f': \"187620\",\n        },\n\"zk-dev-saabhyankar\",\n\"scheduled_query_5fc5935c-0000-2cd7-9b98-24058873a7c4\",\n\"zr-prod-data-warehouse:US.default\",\n\"2020-07-21\",\n\"2020-07-21 15:03:28.004000+00:00\",\n\"2020-07-21 15:58:47.473000+00:00\",\n{\n            'v': 3257,\n            'f': \"3257\",\n        },\n\"QUERY\",\n\"saabhyankar@google.com\",\n\"DONE\",\n{\n            'v': null,\n            'f': \"null\",\n        },\n{\n            'v': 5572009786042.0,\n            'f': \"5572009786042.0\",\n        },\n{\n            'v': 533.9240220249332,\n            'f': \"533.9240220249332\",\n        }]],\n        columns: [[\"number\", \"index\"], [\"string\", \"project_id\"], [\"string\", \"job_id\"], [\"string\", \"reservation_id\"], [\"string\", \"creation_date\"], [\"string\", \"creation_time\"], [\"string\", \"end_time\"], [\"number\", \"job_duration_seconds\"], [\"string\", \"job_type\"], [\"string\", \"user_email\"], [\"string\", \"state\"], [\"number\", \"error_result\"], [\"number\", \"total_bytes_processed\"], [\"number\", \"avg_slots\"]],\n        columnOptions: [{\"width\": \"1px\", \"className\": \"index_column\"}],\n        rowsPerPage: 25,\n        helpUrl: \"https://colab.research.google.com/notebooks/data_table.ipynb\",\n        suppressOutputScrolling: true,\n        minimumWidth: undefined,\n      });\n    ",
            "text/html": [
              "<div>\n",
              "<style scoped>\n",
              "    .dataframe tbody tr th:only-of-type {\n",
              "        vertical-align: middle;\n",
              "    }\n",
              "\n",
              "    .dataframe tbody tr th {\n",
              "        vertical-align: top;\n",
              "    }\n",
              "\n",
              "    .dataframe thead th {\n",
              "        text-align: right;\n",
              "    }\n",
              "</style>\n",
              "<table border=\"1\" class=\"dataframe\">\n",
              "  <thead>\n",
              "    <tr style=\"text-align: right;\">\n",
              "      <th></th>\n",
              "      <th>project_id</th>\n",
              "      <th>job_id</th>\n",
              "      <th>reservation_id</th>\n",
              "      <th>creation_date</th>\n",
              "      <th>creation_time</th>\n",
              "      <th>end_time</th>\n",
              "      <th>job_duration_seconds</th>\n",
              "      <th>job_type</th>\n",
              "      <th>user_email</th>\n",
              "      <th>state</th>\n",
              "      <th>error_result</th>\n",
              "      <th>total_bytes_processed</th>\n",
              "      <th>avg_slots</th>\n",
              "    </tr>\n",
              "  </thead>\n",
              "  <tbody>\n",
              "    <tr>\n",
              "      <th>187620</th>\n",
              "      <td>zk-dev-saabhyankar</td>\n",
              "      <td>scheduled_query_5fc5935c-0000-2cd7-9b98-240588...</td>\n",
              "      <td>zr-prod-data-warehouse:US.default</td>\n",
              "      <td>2020-07-21</td>\n",
              "      <td>2020-07-21 15:03:28.004000+00:00</td>\n",
              "      <td>2020-07-21 15:58:47.473000+00:00</td>\n",
              "      <td>3257</td>\n",
              "      <td>QUERY</td>\n",
              "      <td>saabhyankar@google.com</td>\n",
              "      <td>DONE</td>\n",
              "      <td>None</td>\n",
              "      <td>5.572010e+12</td>\n",
              "      <td>533.924022</td>\n",
              "    </tr>\n",
              "  </tbody>\n",
              "</table>\n",
              "</div>"
            ],
            "text/plain": [
              "                project_id  ...   avg_slots\n",
              "187620  zk-dev-saabhyankar  ...  533.924022\n",
              "\n",
              "[1 rows x 13 columns]"
            ]
          },
          "metadata": {
            "tags": []
          },
          "execution_count": 5
        }
      ]
    },
    {
      "cell_type": "markdown",
      "metadata": {
        "id": "zb-fsYK1hkT3"
      },
      "source": [
        "# **Step 2: Verifying whether the job is performing out of normal bounds**  "
      ]
    },
    {
      "cell_type": "markdown",
      "metadata": {
        "id": "bpDv6ZrLifB9"
      },
      "source": [
        "#### _Figure 2. Histogram Example_"
      ]
    },
    {
      "cell_type": "code",
      "metadata": {
        "id": "bQTkvUF9gYPy"
      },
      "source": [
        "# initialize variable\n",
        "problematic_job_project = <PROJECT-ID>\n",
        "# initialize bigquery client for the other project\n",
        "specific_client = bigquery.Client(project=problematic_job_project)"
      ],
      "execution_count": null,
      "outputs": []
    },
    {
      "cell_type": "code",
      "metadata": {
        "colab": {
          "base_uri": "https://localhost:8080/",
          "height": 281
        },
        "id": "MPZ43usAg01N",
        "outputId": "eb5b1965-2e60-4288-9887-5368222ab73e"
      },
      "source": [
        "# query project system tables\n",
        "job_proj_specific_sql = f'''\n",
        " SELECT\n",
        "   project_id,\n",
        "   job_id,\n",
        "   query,\n",
        "   TIMESTAMP_DIFF(end_time, start_time, SECOND) AS job_duration_seconds\n",
        " FROM\n",
        "   `region-US`.INFORMATION_SCHEMA.JOBS_BY_PROJECT\n",
        "'''\n",
        "\n",
        "# filter for the problematic job\n",
        "specific_jobs = specific_client.query(job_proj_specific_sql).to_dataframe()\n",
        "problematic_job = specific_jobs.loc[specific_jobs['job_id'] == problematic_job_id]\n",
        "\n",
        "# search for similar jobs in the same project by query text\n",
        "problematic_query_sample = problematic_job.iloc[0]['query']\n",
        "similar_jobs = specific_jobs[specific_jobs['query'].str.contains(problematic_query_sample, na=False, regex=False)]\n",
        "similar_jobs = similar_jobs[similar_jobs.job_id != problematic_job_id]\n",
        "\n",
        "# plot histogram\n",
        "similar_hist = similar_jobs.hist(column='job_duration_seconds')"
      ],
      "execution_count": 7,
      "outputs": [
        {
          "output_type": "display_data",
          "data": {
            "image/png": "[encoded data removed]",
            "text/plain": [
              "<Figure size 432x288 with 1 Axes>"
            ]
          },
          "metadata": {
            "tags": [],
            "needs_background": "light"
          }
        }
      ]
    },
    {
      "cell_type": "markdown",
      "metadata": {
        "id": "nKFkPMq3hmxk"
      },
      "source": [
        "# **Step 3: Checking for slot resource contention**  "
      ]
    },
    {
      "cell_type": "markdown",
      "metadata": {
        "id": "FTCbHgnAiljo"
      },
      "source": [
        "#### _Figure 3. Bar Chart Example_"
      ]
    },
    {
      "cell_type": "code",
      "metadata": {
        "colab": {
          "base_uri": "https://localhost:8080/",
          "height": 744
        },
        "id": "HD1x8WqFhLU9",
        "outputId": "004d8e2f-7fb5-45b5-bc2a-77601ccfb8bd"
      },
      "source": [
        "# store the problematic job’s information\n",
        "job_info = jobs_by_org.loc[jobs_by_org['job_id'] == problematic_job_id]\n",
        "ji_create_time = job_info.iloc[0]['creation_time']\n",
        "ji_end_time = job_info.iloc[0]['end_time']\n",
        "ji_reservation_id = job_info.iloc[0]['reservation_id']\n",
        "\n",
        "# filter by job type and time\n",
        "min_info = jobs_by_org.loc[(jobs_by_org['job_type'] == 'QUERY') & (jobs_by_org['creation_time'] >= ji_create_time) & (jobs_by_org['end_time'] <= ji_end_time) & (jobs_by_org['reservation_id'] == ji_reservation_id)]\n",
        "\n",
        "# group by time and project, aggregate by job count\n",
        "min_info['minutes_from_timestamps'] = min_info['creation_time'].dt.minute\n",
        "grouped = min_info.groupby(['minutes_from_timestamps','project_id']).agg({'job_id': 'nunique'})\n",
        "grouped.columns = ['job_count']\n",
        "grouped = grouped.reset_index()\n",
        "\n",
        "# plot bar chart\n",
        "pvt = grouped.pivot(index=\"minutes_from_timestamps\", columns=\"project_id\", values=\"job_count\")\n",
        "pvt.plot(kind=\"bar\", stacked=\"True\", figsize=(20,10), title=\"Concurrent Jobs Over Time\")"
      ],
      "execution_count": 8,
      "outputs": [
        {
          "output_type": "stream",
          "text": [
            "/usr/local/lib/python3.6/dist-packages/ipykernel_launcher.py:11: SettingWithCopyWarning: \n",
            "A value is trying to be set on a copy of a slice from a DataFrame.\n",
            "Try using .loc[row_indexer,col_indexer] = value instead\n",
            "\n",
            "See the caveats in the documentation: https://pandas.pydata.org/pandas-docs/stable/user_guide/indexing.html#returning-a-view-versus-a-copy\n",
            "  # This is added back by InteractiveShellApp.init_path()\n"
          ],
          "name": "stderr"
        },
        {
          "output_type": "execute_result",
          "data": {
            "text/plain": [
              "<matplotlib.axes._subplots.AxesSubplot at 0x7f9a54f75208>"
            ]
          },
          "metadata": {
            "tags": []
          },
          "execution_count": 8
        },
        {
          "output_type": "display_data",
          "data": {
            "image/png": "[encoded data removed]",
            "text/plain": [
              "<Figure size 1440x720 with 1 Axes>"
            ]
          },
          "metadata": {
            "tags": [],
            "needs_background": "light"
          }
        }
      ]
    },
    {
      "cell_type": "code",
      "metadata": {
        "id": "gKNzWykzlak7"
      },
      "source": [
        ""
      ],
      "execution_count": null,
      "outputs": []
    }
  ]
}